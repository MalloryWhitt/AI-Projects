{
 "cells": [
  {
   "cell_type": "markdown",
   "id": "1242cc9a-0d5c-4d5c-ad8b-77bd91953e0e",
   "metadata": {},
   "source": [
    "<center> <h1> Assignment 1: Neural Networks and Supervised Learning </h1> </center>"
   ]
  },
  {
   "cell_type": "markdown",
   "id": "43389fb4-f913-4f2d-a247-e4acbc4722a7",
   "metadata": {},
   "source": [
    "<center> <h4> COMP 5600 Artificial Intelligence - Mallory Whitt </h4> </center>"
   ]
  },
  {
   "cell_type": "markdown",
   "id": "158e0779-9f6b-41df-b923-1506fafff28b",
   "metadata": {},
   "source": [
    "### Part A: Forward Pass Simulation Function\n",
    "\n",
    "Below, I implemented the specified forward pass function. The pass is called with input x = 5.0 and the later specified weights used. An example output is given."
   ]
  },
  {
   "cell_type": "code",
   "execution_count": 6,
   "id": "bda2cd22-9187-4279-9a1c-e8095daa89f0",
   "metadata": {},
   "outputs": [
    {
     "name": "stdout",
     "output_type": "stream",
     "text": [
      "Pre-activations: {1: 5.0, 2: 2.979921447227146, 3: -0.993307149075715, 4: -9.933071490757154, 5: 0.5400332966834759}\n",
      "Activations: {1: 0.9933071490757153, 2: 2.979921447227146, 3: 0.270259348906166, 4: 4.854011288561296e-05, 5: 0.5400332966834759}\n"
     ]
    }
   ],
   "source": [
    "import math\n",
    "\n",
    "def sigmoid(x):\n",
    "    return 1 / (1 + math.exp(-x))\n",
    "\n",
    "def relu(x):\n",
    "    return max(0, x)\n",
    "\n",
    "def forward_pass(x, weights):\n",
    "    a_values = {}\n",
    "    z_values = {}\n",
    "\n",
    "    # node 1\n",
    "    a_values[1] = x\n",
    "    z_values[1] = sigmoid(a_values[1])\n",
    "\n",
    "    # node 2\n",
    "    a_values[2] = weights[1][2] * z_values[1]\n",
    "    z_values[2] = relu(a_values[2])\n",
    "\n",
    "    # node 3\n",
    "    a_values[3] = weights[1][3] * z_values[1] + weights[2][3] * z_values[2]\n",
    "    z_values[3] = sigmoid(a_values[3])\n",
    "\n",
    "    # node 4\n",
    "    a_values[4] = weights[1][4] * z_values[1] + weights[2][4] * z_values[2]\n",
    "    z_values[4] = sigmoid(a_values[4])\n",
    "\n",
    "    # node 5\n",
    "    a_values[5] = weights[3][5] * z_values[3] + weights[4][5] * z_values[4]\n",
    "    z_values[5] = a_values[5]\n",
    "\n",
    "    return {'a': a_values, 'z': z_values}\n",
    "\n",
    "\n",
    "weights = [\n",
    "    [0,   0,   0,   0,   0,   0],\n",
    "    [0,   0,   3,  -4,  -1,   0],\n",
    "    [0,   0,   0,   1,  -3,   0],\n",
    "    [0,   0,   0,   0,   0,   2],\n",
    "    [0,   0,   0,   0,   0, -10],\n",
    "    [0,   0,   0,   0,   0,   0]\n",
    "]\n",
    "\n",
    "result = forward_pass(5.0, weights)\n",
    "\n",
    "print(\"Pre-activations:\", result['a'])\n",
    "print(\"Activations:\", result['z'])"
   ]
  },
  {
   "cell_type": "markdown",
   "id": "c444bc58-d313-4e59-956f-f4c9cc0228b6",
   "metadata": {},
   "source": [
    "### Part B: Backward Pass Simulation Function\n",
    "I am including a separate pdf with my derivations for the output node and hidden node delta functions. Below, I implemented the specified backward pass function."
   ]
  },
  {
   "cell_type": "code",
   "execution_count": 17,
   "id": "3e848659-c112-4fb8-8e64-2e619868c733",
   "metadata": {},
   "outputs": [],
   "source": [
    "def sigmoid_grad_from_z(z):\n",
    "    return z * (1 - z)\n",
    "\n",
    "def relu_grad_from_a(a):\n",
    "    return 1.0 if a > 0 else 0.0\n",
    "\n",
    "def backward_pass(a_values, z_values, y_true, weights):\n",
    "    deltas = {}\n",
    "\n",
    "    # node 5\n",
    "    deltas[5] = (z_values[5] - y_true) * 1.0\n",
    "\n",
    "    # node 4\n",
    "    down_4 = weights[4][5] * deltas[5]\n",
    "    deltas[4] = sigmoid_grad_from_z(z_values[4]) * down_4\n",
    "\n",
    "    # node 3\n",
    "    down_3 = weights[3][5] * deltas[5]\n",
    "    deltas[3] = sigmoid_grad_from_z(z_values[3]) * down_3\n",
    "\n",
    "    # node 2\n",
    "    down_2 = weights[2][3] * deltas[3] + weights[2][4] * deltas[4]\n",
    "    deltas[2] = relu_grad_from_a(a_values[2]) * down_2\n",
    "\n",
    "    # node 1\n",
    "    down_1 = (weights[1][2] * deltas[2] +\n",
    "              weights[1][3] * deltas[3] +\n",
    "              weights[1][4] * deltas[4])\n",
    "    deltas[1] = sigmoid_grad_from_z(z_values[1]) * down_1\n",
    "\n",
    "    return deltas\n",
    "\n",
    "def compute_grads(z_values, deltas):\n",
    "    \n",
    "    grads = [[0]*6 for _ in range(6)]\n",
    "    \n",
    "    grads[1][2] = z_values[1] * deltas[2]\n",
    "    grads[1][3] = z_values[1] * deltas[3]\n",
    "    grads[1][4] = z_values[1] * deltas[4]\n",
    "    grads[2][3] = z_values[2] * deltas[3]\n",
    "    grads[2][4] = z_values[2] * deltas[4]\n",
    "    grads[3][5] = z_values[3] * deltas[5]\n",
    "    grads[4][5] = z_values[4] * deltas[5]\n",
    "    \n",
    "    return grads"
   ]
  },
  {
   "cell_type": "markdown",
   "id": "3bbeedb1-5063-4431-a6b9-1a7995a74f01",
   "metadata": {},
   "source": [
    "### Part C: Sample Calculations\n",
    "The two samples (x = 0.0, y = 0.5 & x = 1.0, y = 0.1) are used in forwards and backwards calculations. Their respective activations and error signals are printed."
   ]
  },
  {
   "cell_type": "code",
   "execution_count": 23,
   "id": "639a1f35-d208-446e-a168-1116ba88216e",
   "metadata": {},
   "outputs": [
    {
     "name": "stdout",
     "output_type": "stream",
     "text": [
      "Sample (x=0.0, y=0.5)\n",
      "z1=0.5,  δ1=0.009\n",
      "z2=1.5,  δ2=0.126\n",
      "z3=0.378,  δ3=0.088\n",
      "z4=0.007,  δ4=-0.013\n",
      "z5=0.688,  δ5=0.188\n",
      "\n",
      "Sample (x=1.0, y=0.1)\n",
      "z1=0.731,  δ1=-0.04\n",
      "z2=2.193,  δ2=0.249\n",
      "z3=0.325,  δ3=0.238\n",
      "z4=0.001,  δ4=-0.004\n",
      "z5=0.643,  δ5=0.543\n"
     ]
    }
   ],
   "source": [
    "import builtins\n",
    "\n",
    "def run_sample(x, y):\n",
    "    out = forward_pass(x, weights)\n",
    "    a, z = out['a'], out['z']\n",
    "    d = backward_pass(a, z, y_true=y, weights=weights)\n",
    "    return z, d\n",
    "\n",
    "# Sample 1\n",
    "z1, d1 = run_sample(0.0, 0.5)\n",
    "# Sample 2\n",
    "z2, d2 = run_sample(1.0, 0.1)\n",
    "\n",
    "def r(x): \n",
    "    return builtins.round(float(x), 3)\n",
    "\n",
    "print(\"Sample (x=0.0, y=0.5)\")\n",
    "for i in range(1,6):\n",
    "    print(f\"z{i}={r(z1[i])},  δ{i}={r(d1[i])}\")\n",
    "\n",
    "print(\"\\nSample (x=1.0, y=0.1)\")\n",
    "for i in range(1,6):\n",
    "    print(f\"z{i}={r(z2[i])},  δ{i}={r(d2[i])}\")\n"
   ]
  },
  {
   "cell_type": "markdown",
   "id": "84628f57-ae1d-4493-842a-f24cd6cac36e",
   "metadata": {},
   "source": [
    "### Part D: SGD Training Function\n",
    "The SGD training function is implemented below. The final MSE is displayed after the specified samples, weights, learning rate, and epochs are passed as parameters to the function."
   ]
  },
  {
   "cell_type": "code",
   "execution_count": 28,
   "id": "488069fa-f229-473c-af59-7a8b12f54d24",
   "metadata": {},
   "outputs": [
    {
     "name": "stdout",
     "output_type": "stream",
     "text": [
      "Trained weights:\n",
      "W12 = 2.896\n",
      "W13 = -4.124\n",
      "W14 = -1.0\n",
      "W23 = 0.636\n",
      "W24 = -2.999\n",
      "W35 = 1.891\n",
      "W45 = -10.0\n",
      "Final MSE: 0.013\n"
     ]
    }
   ],
   "source": [
    "def mse_over_dataset(samples, weights):\n",
    "    total = 0.0\n",
    "    for x, y in samples:\n",
    "        z5 = forward_pass(x, weights)['z'][5]\n",
    "        total += 0.5 * (float(z5) - float(y))**2\n",
    "    return total / len(samples)\n",
    "\n",
    "def train_sgd(samples, weights, learning_rate, epochs):\n",
    "    w = [row[:] for row in weights]\n",
    "    history = []\n",
    "    for epoch in range(epochs):\n",
    "        for x, y in samples:\n",
    "            out = forward_pass(x, w)\n",
    "            a_vals, z_vals = out['a'], out['z']\n",
    "            deltas = backward_pass(a_vals, z_vals, y, w)\n",
    "            grads = compute_grads(z_vals, deltas)\n",
    "            for i in range(len(w)):\n",
    "                for j in range(len(w[i])):\n",
    "                    w[i][j] -= learning_rate * grads[i][j]\n",
    "        epoch_mse = mse_over_dataset(samples, w)\n",
    "        history.append(epoch_mse)\n",
    "    return w, history\n",
    "\n",
    "samples = [(0.0, 0.5), (1.0, 0.1)]\n",
    "trained, hist = train_sgd(samples, weights, 0.1, 20)\n",
    "\n",
    "print(\"Trained weights:\")\n",
    "for i in range(1, 6):\n",
    "    for j in range(1, 6):\n",
    "        if trained[i][j] != 0:\n",
    "            print(f\"W{i}{j} = {r(trained[i][j])}\")\n",
    "\n",
    "print(\"Final MSE:\", r(mse_over_dataset(samples, trained)))\n"
   ]
  },
  {
   "cell_type": "markdown",
   "id": "374c9fcc-8481-4d07-b075-587b97875ed4",
   "metadata": {},
   "source": [
    "### Part E: Training Results\n",
    "Below are the training results for the 11 given sample values. The evolution of error, predictions vs. true values, and final weights are displayed."
   ]
  },
  {
   "cell_type": "code",
   "execution_count": 30,
   "id": "25b3b6c6-736c-4534-8f4e-caff4ab71357",
   "metadata": {},
   "outputs": [
    {
     "data": {
      "image/png": "[encoded data removed]",
      "text/plain": [
       "<Figure size 640x480 with 1 Axes>"
      ]
     },
     "metadata": {},
     "output_type": "display_data"
    },
    {
     "data": {
      "image/png": "[encoded data removed]",
      "text/plain": [
       "<Figure size 640x480 with 1 Axes>"
      ]
     },
     "metadata": {},
     "output_type": "display_data"
    },
    {
     "name": "stdout",
     "output_type": "stream",
     "text": [
      "Final MSE: 0.0064179955119608775\n",
      "Final weights:\n"
     ]
    },
    {
     "ename": "AttributeError",
     "evalue": "'list' object has no attribute 'keys'",
     "output_type": "error",
     "traceback": [
      "\u001b[1;31m---------------------------------------------------------------------------\u001b[0m",
      "\u001b[1;31mAttributeError\u001b[0m                            Traceback (most recent call last)",
      "Cell \u001b[1;32mIn[30], line 47\u001b[0m\n\u001b[0;32m     45\u001b[0m \u001b[38;5;28mprint\u001b[39m(\u001b[38;5;124m\"\u001b[39m\u001b[38;5;124mFinal MSE:\u001b[39m\u001b[38;5;124m\"\u001b[39m, mse_over_dataset(samples, trained_w))\n\u001b[0;32m     46\u001b[0m \u001b[38;5;28mprint\u001b[39m(\u001b[38;5;124m\"\u001b[39m\u001b[38;5;124mFinal weights:\u001b[39m\u001b[38;5;124m\"\u001b[39m)\n\u001b[1;32m---> 47\u001b[0m \u001b[38;5;28;01mfor\u001b[39;00m k \u001b[38;5;129;01min\u001b[39;00m \u001b[38;5;28msorted\u001b[39m(trained_w\u001b[38;5;241m.\u001b[39mkeys()):\n\u001b[0;32m     48\u001b[0m     \u001b[38;5;28mprint\u001b[39m(\u001b[38;5;124mf\u001b[39m\u001b[38;5;124m\"\u001b[39m\u001b[38;5;124m  \u001b[39m\u001b[38;5;132;01m{\u001b[39;00mk\u001b[38;5;132;01m}\u001b[39;00m\u001b[38;5;124m: \u001b[39m\u001b[38;5;132;01m{\u001b[39;00mtrained_w[k]\u001b[38;5;132;01m:\u001b[39;00m\u001b[38;5;124m.6f\u001b[39m\u001b[38;5;132;01m}\u001b[39;00m\u001b[38;5;124m\"\u001b[39m)\n",
      "\u001b[1;31mAttributeError\u001b[0m: 'list' object has no attribute 'keys'"
     ]
    }
   ],
   "source": [
    "import matplotlib.pyplot as plt\n",
    "\n",
    "samples = [\n",
    "    (3.0, 0.7312),\n",
    "    (2.0, 0.7339),\n",
    "    (1.5, 0.7438),\n",
    "    (1.0, 0.7832),\n",
    "    (0.5, 0.8903),\n",
    "    (0.0, 0.9820),\n",
    "    (0.5, 0.8114),\n",
    "    (1.0, 0.5937),\n",
    "    (1.5, 0.5219),\n",
    "    (2.0, 0.5049),\n",
    "    (3.0, 0.5002),\n",
    "]\n",
    "\n",
    "learning_rate = 0.05\n",
    "epoch_num = 300\n",
    "\n",
    "trained_w, loss_hist = train_sgd(samples, weights, learning_rate, epoch_num)\n",
    "\n",
    "# Evolution of error\n",
    "plt.figure()\n",
    "plt.plot(range(1, len(loss_hist)+1), loss_hist)\n",
    "plt.xlabel(\"Epoch\")\n",
    "plt.ylabel(\"Mean Squared Error\")\n",
    "plt.title(\"Training Loss over Epochs\")\n",
    "plt.show()\n",
    "\n",
    "# Predictions vs. true values\n",
    "xs  = [x for x, _ in samples]\n",
    "ys  = [y for _, y in samples]\n",
    "yhat = [forward_pass(x, trained_w)['z'][5] for x in xs]\n",
    "\n",
    "plt.figure()\n",
    "plt.scatter(xs, ys, label=\"True\")\n",
    "plt.scatter(xs, yhat, label=\"Predicted\")\n",
    "plt.xlabel(\"x\")\n",
    "plt.ylabel(\"y / prediction\")\n",
    "plt.title(\"Predictions vs. True Values (after training)\")\n",
    "plt.legend()\n",
    "plt.show()\n",
    "\n",
    "# 6) Final weights and final MSE\n",
    "print(\"Final MSE:\", mse_over_dataset(samples, trained_w))\n",
    "print(\"Final weights:\")\n",
    "for k in sorted(trained_w.keys()):\n",
    "    print(f\"  {k}: {trained_w[k]:.6f}\")\n"
   ]
  },
  {
   "cell_type": "markdown",
   "id": "adb9c2c4-ead5-47d0-ba73-129449e3d5ea",
   "metadata": {},
   "source": [
    "## Disclosure of AI Tools"
   ]
  },
  {
   "cell_type": "markdown",
   "id": "db73109c-9855-44fa-b3bb-9bd0b3a793e3",
   "metadata": {},
   "source": [
    "I mindfully used AI for this assignment. I double checked some of my work with the AI’s\n",
    "input. I am trut\n",
    "\n",
    "**By writing this reflection, I acknowledge that AI is a support tool, not a substitute for my\n",
    "own effort, and I take full responsibility for the final submission.**"
   ]
  }
 ],
 "metadata": {
  "kernelspec": {
   "display_name": "Python 3 (ipykernel)",
   "language": "python",
   "name": "python3"
  },
  "language_info": {
   "codemirror_mode": {
    "name": "ipython",
    "version": 3
   },
   "file_extension": ".py",
   "mimetype": "text/x-python",
   "name": "python",
   "nbconvert_exporter": "python",
   "pygments_lexer": "ipython3",
   "version": "3.13.5"
  }
 },
 "nbformat": 4,
 "nbformat_minor": 5
}
